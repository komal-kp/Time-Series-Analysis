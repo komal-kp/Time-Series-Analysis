{
  "nbformat": 4,
  "nbformat_minor": 0,
  "metadata": {
    "colab": {
      "name": "Copy of CS575_Assignment1.ipynb",
      "provenance": [],
      "toc_visible": true
    },
    "kernelspec": {
      "name": "python3",
      "display_name": "Python 3"
    }
  },
  "cells": [
    {
      "cell_type": "markdown",
      "metadata": {
        "id": "5UVv_bwue7JE"
      },
      "source": [
        "#Basic Descriptive Stats"
      ]
    },
    {
      "cell_type": "markdown",
      "metadata": {
        "id": "r1WSk4v2pabB"
      },
      "source": [
        "##Load Numpy, Pandas and other Libraries"
      ]
    },
    {
      "cell_type": "code",
      "metadata": {
        "id": "VqjPKpvtAYrT"
      },
      "source": [
        "import numpy as np\r\n",
        "import pandas as pd\r\n",
        "import matplotlib.pyplot as plt\r\n",
        "\r\n",
        "import statistics\r\n",
        "import scipy.stats as stats"
      ],
      "execution_count": 1,
      "outputs": []
    },
    {
      "cell_type": "markdown",
      "metadata": {
        "id": "0E_fqWDcpk1S"
      },
      "source": [
        "### Load Dataset \"Inc_Exp_Data.csv\" using Pandas"
      ]
    },
    {
      "cell_type": "code",
      "metadata": {
        "id": "stSs4b8aBU54",
        "colab": {
          "resources": {
            "http://localhost:8080/nbextensions/google.colab/files.js": {
              "data": "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",
              "ok": true,
              "headers": [
                [
                  "content-type",
                  "application/javascript"
                ]
              ],
              "status": 200,
              "status_text": ""
            }
          },
          "base_uri": "https://localhost:8080/",
          "height": 73
        },
        "outputId": "e9e963b5-1271-4df2-ddc8-d84edbeb3ff7"
      },
      "source": [
        "from google.colab import files\r\n",
        "dataset = files.upload()"
      ],
      "execution_count": 4,
      "outputs": [
        {
          "output_type": "display_data",
          "data": {
            "text/html": [
              "\n",
              "     <input type=\"file\" id=\"files-8ec24826-89e8-4d11-bfe7-5ebf40a494f5\" name=\"files[]\" multiple disabled\n",
              "        style=\"border:none\" />\n",
              "     <output id=\"result-8ec24826-89e8-4d11-bfe7-5ebf40a494f5\">\n",
              "      Upload widget is only available when the cell has been executed in the\n",
              "      current browser session. Please rerun this cell to enable.\n",
              "      </output>\n",
              "      <script src=\"/nbextensions/google.colab/files.js\"></script> "
            ],
            "text/plain": [
              "<IPython.core.display.HTML object>"
            ]
          },
          "metadata": {
            "tags": []
          }
        },
        {
          "output_type": "stream",
          "text": [
            "Saving Inc_Exp_Data.csv to Inc_Exp_Data.csv\n"
          ],
          "name": "stdout"
        }
      ]
    },
    {
      "cell_type": "markdown",
      "metadata": {
        "id": "26a653XTpsrL"
      },
      "source": [
        "Analyze the data using pandas info() *function*"
      ]
    },
    {
      "cell_type": "code",
      "metadata": {
        "id": "0jrbFZ7aCDVg",
        "colab": {
          "base_uri": "https://localhost:8080/"
        },
        "outputId": "6309403c-e092-4a7e-bbc9-3902ce274543"
      },
      "source": [
        "dataset = pd.read_csv('/content/Inc_Exp_Data.csv')\r\n",
        "dataset.info()"
      ],
      "execution_count": 5,
      "outputs": [
        {
          "output_type": "stream",
          "text": [
            "<class 'pandas.core.frame.DataFrame'>\n",
            "RangeIndex: 50 entries, 0 to 49\n",
            "Data columns (total 7 columns):\n",
            " #   Column                    Non-Null Count  Dtype \n",
            "---  ------                    --------------  ----- \n",
            " 0   Mthly_HH_Income           50 non-null     int64 \n",
            " 1   Mthly_HH_Expense          50 non-null     int64 \n",
            " 2   No_of_Fly_Members         50 non-null     int64 \n",
            " 3   Emi_or_Rent_Amt           50 non-null     int64 \n",
            " 4   Annual_HH_Income          50 non-null     int64 \n",
            " 5   Highest_Qualified_Member  50 non-null     object\n",
            " 6   No_of_Earning_Members     50 non-null     int64 \n",
            "dtypes: int64(6), object(1)\n",
            "memory usage: 2.9+ KB\n"
          ],
          "name": "stdout"
        }
      ]
    },
    {
      "cell_type": "markdown",
      "metadata": {
        "id": "0bfcP5Twp4Sr"
      },
      "source": [
        "Analyze the data using pandas describe() *function*"
      ]
    },
    {
      "cell_type": "code",
      "metadata": {
        "id": "wf08Cv0cqJ-K",
        "colab": {
          "base_uri": "https://localhost:8080/",
          "height": 286
        },
        "outputId": "f1892320-7657-44ea-ce17-c72df0c2b46b"
      },
      "source": [
        "dataset.describe()"
      ],
      "execution_count": 6,
      "outputs": [
        {
          "output_type": "execute_result",
          "data": {
            "text/html": [
              "<div>\n",
              "<style scoped>\n",
              "    .dataframe tbody tr th:only-of-type {\n",
              "        vertical-align: middle;\n",
              "    }\n",
              "\n",
              "    .dataframe tbody tr th {\n",
              "        vertical-align: top;\n",
              "    }\n",
              "\n",
              "    .dataframe thead th {\n",
              "        text-align: right;\n",
              "    }\n",
              "</style>\n",
              "<table border=\"1\" class=\"dataframe\">\n",
              "  <thead>\n",
              "    <tr style=\"text-align: right;\">\n",
              "      <th></th>\n",
              "      <th>Mthly_HH_Income</th>\n",
              "      <th>Mthly_HH_Expense</th>\n",
              "      <th>No_of_Fly_Members</th>\n",
              "      <th>Emi_or_Rent_Amt</th>\n",
              "      <th>Annual_HH_Income</th>\n",
              "      <th>No_of_Earning_Members</th>\n",
              "    </tr>\n",
              "  </thead>\n",
              "  <tbody>\n",
              "    <tr>\n",
              "      <th>count</th>\n",
              "      <td>50.000000</td>\n",
              "      <td>50.000000</td>\n",
              "      <td>50.000000</td>\n",
              "      <td>50.000000</td>\n",
              "      <td>5.000000e+01</td>\n",
              "      <td>50.000000</td>\n",
              "    </tr>\n",
              "    <tr>\n",
              "      <th>mean</th>\n",
              "      <td>41558.000000</td>\n",
              "      <td>18818.000000</td>\n",
              "      <td>4.060000</td>\n",
              "      <td>3060.000000</td>\n",
              "      <td>4.900190e+05</td>\n",
              "      <td>1.460000</td>\n",
              "    </tr>\n",
              "    <tr>\n",
              "      <th>std</th>\n",
              "      <td>26097.908979</td>\n",
              "      <td>12090.216824</td>\n",
              "      <td>1.517382</td>\n",
              "      <td>6241.434948</td>\n",
              "      <td>3.201358e+05</td>\n",
              "      <td>0.734291</td>\n",
              "    </tr>\n",
              "    <tr>\n",
              "      <th>min</th>\n",
              "      <td>5000.000000</td>\n",
              "      <td>2000.000000</td>\n",
              "      <td>1.000000</td>\n",
              "      <td>0.000000</td>\n",
              "      <td>6.420000e+04</td>\n",
              "      <td>1.000000</td>\n",
              "    </tr>\n",
              "    <tr>\n",
              "      <th>25%</th>\n",
              "      <td>23550.000000</td>\n",
              "      <td>10000.000000</td>\n",
              "      <td>3.000000</td>\n",
              "      <td>0.000000</td>\n",
              "      <td>2.587500e+05</td>\n",
              "      <td>1.000000</td>\n",
              "    </tr>\n",
              "    <tr>\n",
              "      <th>50%</th>\n",
              "      <td>35000.000000</td>\n",
              "      <td>15500.000000</td>\n",
              "      <td>4.000000</td>\n",
              "      <td>0.000000</td>\n",
              "      <td>4.474200e+05</td>\n",
              "      <td>1.000000</td>\n",
              "    </tr>\n",
              "    <tr>\n",
              "      <th>75%</th>\n",
              "      <td>50375.000000</td>\n",
              "      <td>25000.000000</td>\n",
              "      <td>5.000000</td>\n",
              "      <td>3500.000000</td>\n",
              "      <td>5.947200e+05</td>\n",
              "      <td>2.000000</td>\n",
              "    </tr>\n",
              "    <tr>\n",
              "      <th>max</th>\n",
              "      <td>100000.000000</td>\n",
              "      <td>50000.000000</td>\n",
              "      <td>7.000000</td>\n",
              "      <td>35000.000000</td>\n",
              "      <td>1.404000e+06</td>\n",
              "      <td>4.000000</td>\n",
              "    </tr>\n",
              "  </tbody>\n",
              "</table>\n",
              "</div>"
            ],
            "text/plain": [
              "       Mthly_HH_Income  ...  No_of_Earning_Members\n",
              "count        50.000000  ...              50.000000\n",
              "mean      41558.000000  ...               1.460000\n",
              "std       26097.908979  ...               0.734291\n",
              "min        5000.000000  ...               1.000000\n",
              "25%       23550.000000  ...               1.000000\n",
              "50%       35000.000000  ...               1.000000\n",
              "75%       50375.000000  ...               2.000000\n",
              "max      100000.000000  ...               4.000000\n",
              "\n",
              "[8 rows x 6 columns]"
            ]
          },
          "metadata": {
            "tags": []
          },
          "execution_count": 6
        }
      ]
    },
    {
      "cell_type": "markdown",
      "metadata": {
        "id": "Gy_Q1psDp3K0"
      },
      "source": [
        "Analyze the data using pandas shape object"
      ]
    },
    {
      "cell_type": "code",
      "metadata": {
        "id": "lskKTYblqKUC",
        "colab": {
          "base_uri": "https://localhost:8080/"
        },
        "outputId": "fcc351aa-e9cc-4b25-e043-1b3aa7926feb"
      },
      "source": [
        "dataset.shape"
      ],
      "execution_count": 7,
      "outputs": [
        {
          "output_type": "execute_result",
          "data": {
            "text/plain": [
              "(50, 7)"
            ]
          },
          "metadata": {
            "tags": []
          },
          "execution_count": 7
        }
      ]
    },
    {
      "cell_type": "markdown",
      "metadata": {
        "id": "bTQjekrUp9LW"
      },
      "source": [
        "Check for missing values"
      ]
    },
    {
      "cell_type": "code",
      "metadata": {
        "id": "e9FUUTH7qKtq",
        "colab": {
          "base_uri": "https://localhost:8080/"
        },
        "outputId": "9d6f82d9-5804-4a93-bb6e-9532a1dff01b"
      },
      "source": [
        "\r\n",
        "dataset.isnull().values.any()"
      ],
      "execution_count": 8,
      "outputs": [
        {
          "output_type": "execute_result",
          "data": {
            "text/plain": [
              "False"
            ]
          },
          "metadata": {
            "tags": []
          },
          "execution_count": 8
        }
      ]
    },
    {
      "cell_type": "markdown",
      "metadata": {
        "id": "VSfKC-bgqLFC"
      },
      "source": [
        "What is the Mean Expense of a Household? Compute mean using Inbuilt pandas function and write your own function for the same."
      ]
    },
    {
      "cell_type": "code",
      "metadata": {
        "id": "DCRfeoKZqMzP",
        "colab": {
          "base_uri": "https://localhost:8080/"
        },
        "outputId": "150a7e6b-ca97-4fd4-a456-14136be38299"
      },
      "source": [
        "print('Mean using builtin function:  ',dataset['Mthly_HH_Expense'].mean())\r\n",
        "\r\n",
        "def my_mean(arr):\r\n",
        "  sum = 0\r\n",
        "  for i in arr:\r\n",
        "    sum = sum + i\r\n",
        "  return sum/len(arr)\r\n",
        "\r\n",
        "\r\n",
        "print('Mean using made function:     ',my_mean(dataset['Mthly_HH_Expense']))\r\n",
        "\r\n",
        "\r\n",
        "\r\n"
      ],
      "execution_count": 13,
      "outputs": [
        {
          "output_type": "stream",
          "text": [
            "Mean using builtin function:   18818.0\n",
            "Mean using made function:      18818.0\n"
          ],
          "name": "stdout"
        }
      ]
    },
    {
      "cell_type": "markdown",
      "metadata": {
        "id": "f9YrCDbZqNH6"
      },
      "source": [
        "What is the Median Household Expense? Compute Median using Inbuilt pandas function and write your own function for the same."
      ]
    },
    {
      "cell_type": "code",
      "metadata": {
        "id": "wYWaDFM2qPxq",
        "colab": {
          "base_uri": "https://localhost:8080/"
        },
        "outputId": "f8cef549-7e8b-440c-946c-d02f98a8b748"
      },
      "source": [
        "print('Median using builtin function:    ',dataset['Mthly_HH_Expense'].median())\r\n",
        "\r\n",
        "\r\n",
        "def my_median(arr):\r\n",
        "  arr = arr.sort_values(ignore_index=True)\r\n",
        "  x = len(arr)\r\n",
        "  if x % 2 == 0:\r\n",
        "    median1 = arr[(x/2)]\r\n",
        "  \r\n",
        "    median2 = arr[(x/2)-1]\r\n",
        "  \r\n",
        "    median = (median1+median2)/2\r\n",
        "\r\n",
        "  else:\r\n",
        "    medium = arr[(x/2)]\r\n",
        "\r\n",
        "  return median\r\n",
        "  \r\n",
        "\r\n",
        "\r\n",
        "print('median made function:      ',my_median(dataset['Mthly_HH_Expense']))\r\n",
        "\r\n",
        "\r\n"
      ],
      "execution_count": 20,
      "outputs": [
        {
          "output_type": "stream",
          "text": [
            "Median using builtin function:     15500.0\n",
            "median made function:       15500.0\n"
          ],
          "name": "stdout"
        }
      ]
    },
    {
      "cell_type": "markdown",
      "metadata": {
        "id": "jD4gKP8IqRFT"
      },
      "source": [
        "What is the Monthly Expense for most of the Households?\r\n"
      ]
    },
    {
      "cell_type": "code",
      "metadata": {
        "id": "OrUkGIVlqUJb",
        "colab": {
          "base_uri": "https://localhost:8080/"
        },
        "outputId": "68b96d66-fa9c-4c17-af5c-13d5853470bd"
      },
      "source": [
        "print('Monthly expense for most of households --',dataset['Mthly_HH_Expense'].value_counts()[:1].index.to_list())\r\n",
        "\r\n"
      ],
      "execution_count": 40,
      "outputs": [
        {
          "output_type": "stream",
          "text": [
            "Monthly expense for most of households -- [25000]\n"
          ],
          "name": "stdout"
        }
      ]
    },
    {
      "cell_type": "markdown",
      "metadata": {
        "id": "CZtVOZxJqXzz"
      },
      "source": [
        "Calculate IQR(difference between 75% and 25% quartile)"
      ]
    },
    {
      "cell_type": "code",
      "metadata": {
        "id": "sxPVuHYrqX8s",
        "colab": {
          "base_uri": "https://localhost:8080/"
        },
        "outputId": "7b04db62-0840-48bf-a9f2-24aa6ff1eb78"
      },
      "source": [
        "numeric_columns = dataset.select_dtypes(include=np.number).columns.tolist()\r\n",
        "\r\n",
        "for i in numeric_columns:\r\n",
        "    print('Inter-quartile range for ',i,'  ', stats.iqr(dataset[i]))"
      ],
      "execution_count": 45,
      "outputs": [
        {
          "output_type": "stream",
          "text": [
            "Inter-quartile range for  Mthly_HH_Income    26825.0\n",
            "Inter-quartile range for  Mthly_HH_Expense    15000.0\n",
            "Inter-quartile range for  No_of_Fly_Members    2.0\n",
            "Inter-quartile range for  Emi_or_Rent_Amt    3500.0\n",
            "Inter-quartile range for  Annual_HH_Income    335970.0\n",
            "Inter-quartile range for  No_of_Earning_Members    1.0\n"
          ],
          "name": "stdout"
        }
      ]
    },
    {
      "cell_type": "markdown",
      "metadata": {
        "id": "jElORm3tqblT"
      },
      "source": [
        "Calculate Standard Deviation for first 4 columns. Compute Standard Deviation using Inbuilt pandas function and write your own function for the same."
      ]
    },
    {
      "cell_type": "code",
      "metadata": {
        "id": "ZYA56UIHqbsD",
        "colab": {
          "base_uri": "https://localhost:8080/"
        },
        "outputId": "77fa898f-0ff2-4161-b155-c4e81dc851dc"
      },
      "source": [
        "frst_four_cols = dataset.columns[:4].tolist()\r\n",
        "\r\n",
        "print('std using builtin function\\n')\r\n",
        "for i in frst_four_cols:\r\n",
        "    print('std deviation of ',i,'  ',(dataset[i]).std())\r\n",
        "    \r\n",
        "    \r\n",
        "l = len(dataset)\r\n",
        "\r\n",
        "def stddev(arr):\r\n",
        "    summ = 0\r\n",
        "    for x in arr:\r\n",
        "        num = (x-arr.mean())**2\r\n",
        "        summ = summ+num\r\n",
        "    return (summ/(l-1))**(1/2)\r\n",
        "\r\n",
        "print('std using made function\\n')\r\n",
        "\r\n",
        "for i in frst_four_cols:\r\n",
        "    print('std deviation of ',i,'  ',stddev(dataset[i]))"
      ],
      "execution_count": 48,
      "outputs": [
        {
          "output_type": "stream",
          "text": [
            "std using builtin function\n",
            "\n",
            "std deviation of  Mthly_HH_Income    26097.908978713687\n",
            "std deviation of  Mthly_HH_Expense    12090.216824240286\n",
            "std deviation of  No_of_Fly_Members    1.5173822786601394\n",
            "std deviation of  Emi_or_Rent_Amt    6241.434947516607\n",
            "std using made function\n",
            "\n",
            "std deviation of  Mthly_HH_Income    26097.908978713687\n",
            "std deviation of  Mthly_HH_Expense    12090.216824240286\n",
            "std deviation of  No_of_Fly_Members    1.5173822786601394\n",
            "std deviation of  Emi_or_Rent_Amt    6241.434947516607\n"
          ],
          "name": "stdout"
        }
      ]
    },
    {
      "cell_type": "markdown",
      "metadata": {
        "id": "UHL1TLkPqfNX"
      },
      "source": [
        "Calculate Variance for first 3 columns. Compute Variance using Inbuilt pandas \r\n",
        "function and write your own function for the same."
      ]
    },
    {
      "cell_type": "code",
      "metadata": {
        "id": "W30ohdg-tyAZ",
        "colab": {
          "base_uri": "https://localhost:8080/"
        },
        "outputId": "2ab77d0d-0693-43dd-d0d6-3853e50f8288"
      },
      "source": [
        "frst_three_cols = dataset.columns[:3].tolist()\r\n",
        "\r\n",
        "print('variance using builtin function\\n')\r\n",
        "for i in frst_three_cols:\r\n",
        "    print('variance of ',i,'  ',(dataset[i]).var())\r\n",
        "    \r\n",
        "    \r\n",
        "l = len(dataset)\r\n",
        "\r\n",
        "def varr(arr):\r\n",
        "    summ = 0\r\n",
        "\r\n",
        "    for x in arr:\r\n",
        "        num = (x-arr.mean())**2\r\n",
        "        summ = summ+num\r\n",
        "        \r\n",
        "    return (summ/(l-1))\r\n",
        "\r\n",
        "print('variance using made function\\n')\r\n",
        "\r\n",
        "for i in frst_three_cols:\r\n",
        "    print('variance of ',i,'  ',varr(dataset[i]))"
      ],
      "execution_count": 49,
      "outputs": [
        {
          "output_type": "stream",
          "text": [
            "variance using builtin function\n",
            "\n",
            "variance of  Mthly_HH_Income    681100853.0612245\n",
            "variance of  Mthly_HH_Expense    146173342.85714287\n",
            "variance of  No_of_Fly_Members    2.302448979591837\n",
            "variance using made function\n",
            "\n",
            "variance of  Mthly_HH_Income    681100853.0612245\n",
            "variance of  Mthly_HH_Expense    146173342.85714287\n",
            "variance of  No_of_Fly_Members    2.302448979591837\n"
          ],
          "name": "stdout"
        }
      ]
    },
    {
      "cell_type": "markdown",
      "metadata": {
        "id": "ASY9WWAAuIx-"
      },
      "source": [
        "Calculate Skewness for first 3 columns. Compute Skewness using Inbuilt pandas function and write your own function for the same.\r\n"
      ]
    },
    {
      "cell_type": "code",
      "metadata": {
        "id": "Sl4uw-jouI88",
        "colab": {
          "base_uri": "https://localhost:8080/"
        },
        "outputId": "3eef0af8-3b46-4ff1-a29c-031aab83f8cc"
      },
      "source": [
        "print('skewness using builtin function\\n')\r\n",
        "for i in frst_three_cols:\r\n",
        "    print('skewness of ',i,'  ',(dataset[i]).skew())\r\n",
        "    \r\n",
        "    \r\n",
        "l = len(dataset)    \r\n",
        "def skewness(arr):\r\n",
        "    summ = 0\r\n",
        "    den = (l-1)*(arr.std())**3\r\n",
        "    for x in arr:\r\n",
        "        num = (x-arr.mean())**3\r\n",
        "        summ = summ+num\r\n",
        "    return (summ/den)\r\n",
        "\r\n",
        "print('skewness using made function\\n')   \r\n",
        "for i in frst_three_cols:\r\n",
        "    print('skewness of ',i,'  ',skewness(dataset[i]))  "
      ],
      "execution_count": 52,
      "outputs": [
        {
          "output_type": "stream",
          "text": [
            "skewness using builtin function\n",
            "\n",
            "skewness of  Mthly_HH_Income    0.9246148763777229\n",
            "skewness of  Mthly_HH_Expense    1.1994608030097127\n",
            "skewness of  No_of_Fly_Members    0.11367415455857431\n",
            "skewness using made function\n",
            "\n",
            "skewness of  Mthly_HH_Income    0.887630281322614\n",
            "skewness of  Mthly_HH_Expense    1.151482370889324\n",
            "skewness of  No_of_Fly_Members    0.10912718837623124\n"
          ],
          "name": "stdout"
        }
      ]
    },
    {
      "cell_type": "markdown",
      "metadata": {
        "id": "bHm8S-umuKV9"
      },
      "source": [
        "Calculate Kurtosis for first 3 columns. Compute Kurtosis using Inbuilt pandas function and write your own function for the same."
      ]
    },
    {
      "cell_type": "code",
      "metadata": {
        "id": "_7DYdHt3uKkd",
        "colab": {
          "base_uri": "https://localhost:8080/"
        },
        "outputId": "9918a136-1071-4ec6-a820-4257ee2b4a19"
      },
      "source": [
        "print('kurtosis using builtin function\\n')\r\n",
        "\r\n",
        "\r\n",
        "for i in frst_three_cols:\r\n",
        "    print('kurtosis of ',i,'  ',stats.kurtosis(dataset[i]))\r\n",
        "    \r\n",
        "    \r\n",
        "l = len(dataset)    \r\n",
        "def kurtosis(arr):\r\n",
        "    summ = 0\r\n",
        "    den = (l-1)*(arr.std())**4\r\n",
        "    for x in arr:\r\n",
        "        num = (x-arr.mean())**4\r\n",
        "        summ = summ+num\r\n",
        "    return (summ/den)\r\n",
        "\r\n",
        "print('kurtosis using made function\\n')\r\n",
        "\r\n",
        "for i in frst_three_cols:\r\n",
        "    print('kurtosis of ',i,'  ',kurtosis(dataset[i])) "
      ],
      "execution_count": 54,
      "outputs": [
        {
          "output_type": "stream",
          "text": [
            "kurtosis using builtin function\n",
            "\n",
            "kurtosis of  Mthly_HH_Income    -0.013332948688498103\n",
            "kurtosis of  Mthly_HH_Expense    0.7331960636897663\n",
            "kurtosis of  No_of_Fly_Members    -0.8862980883527389\n",
            "kurtosis using made function\n",
            "\n",
            "kurtosis of  Mthly_HH_Income    2.926933710285271\n",
            "kurtosis of  Mthly_HH_Expense    3.65853214241597\n",
            "kurtosis of  No_of_Fly_Members    2.071427873414315\n"
          ],
          "name": "stdout"
        }
      ]
    },
    {
      "cell_type": "markdown",
      "metadata": {
        "id": "Mg32NdXwtCM6"
      },
      "source": [
        "Find the correlation coeeficient between the \"Mthly_HH_Income\" and\t\"Mthly_HH_Expense\". Compute correlation coeeficient using Inbuilt pandas function and write your own function for the same.\r\n"
      ]
    },
    {
      "cell_type": "code",
      "metadata": {
        "id": "my0YjieUq2A6",
        "colab": {
          "base_uri": "https://localhost:8080/"
        },
        "outputId": "6357f799-3b4f-43c8-9a74-e7d72227fee4"
      },
      "source": [
        "frst_two_cols = dataset.iloc[:,[0,1]]\r\n",
        "print('pearson coeff using builtin function')\r\n",
        "print(frst_two_cols.corr(method = 'pearson'))\r\n",
        "\r\n",
        "\r\n",
        "\r\n",
        "import math\r\n",
        "\r\n",
        "def average(x):\r\n",
        "    \r\n",
        "    return float(x.sum()) / len(x)\r\n",
        "\r\n",
        "def pearson_def(x, y):\r\n",
        "    \r\n",
        "    n = len(x)\r\n",
        "    assert n > 0\r\n",
        "    avg_x = average(x)\r\n",
        "    avg_y = average(y)\r\n",
        "    diffprod = 0\r\n",
        "    xdiff2 = 0\r\n",
        "    ydiff2 = 0\r\n",
        "    for idx in range(n):\r\n",
        "        xdiff = x[idx] - avg_x\r\n",
        "        ydiff = y[idx] - avg_y\r\n",
        "        diffprod += xdiff * ydiff\r\n",
        "        xdiff2 += xdiff * xdiff\r\n",
        "        ydiff2 += ydiff * ydiff\r\n",
        "\r\n",
        "    return diffprod / math.sqrt(xdiff2 * ydiff2)\r\n",
        "\r\n",
        "\r\n",
        "print('pearson coeff using own function\\n')\r\n",
        "print('Expense-Income   ',pearson_def(dataset['Mthly_HH_Expense'],dataset['Mthly_HH_Income']))\r\n",
        "print('Expense-Expense   ',pearson_def(dataset['Mthly_HH_Expense'],dataset['Mthly_HH_Expense'])) \r\n",
        "print('Income-Income   ',pearson_def(dataset['Mthly_HH_Income'],dataset['Mthly_HH_Income'])) \r\n",
        "print('Income-Expense   ',pearson_def(dataset['Mthly_HH_Income'],dataset['Mthly_HH_Expense'])) \r\n",
        "\r\n",
        "  \r\n",
        "\r\n",
        "\r\n",
        "\r\n"
      ],
      "execution_count": 82,
      "outputs": [
        {
          "output_type": "stream",
          "text": [
            "pearson coeff using builtin function\n",
            "                  Mthly_HH_Income  Mthly_HH_Expense\n",
            "Mthly_HH_Income          1.000000          0.649215\n",
            "Mthly_HH_Expense         0.649215          1.000000\n",
            "pearson coeff using own function\n",
            "\n",
            "Expense-Income    0.6492152549316461\n",
            "Expense-Expense    1.0\n",
            "Income-Income    1.0\n",
            "Income-Expense    0.6492152549316461\n"
          ],
          "name": "stdout"
        }
      ]
    },
    {
      "cell_type": "markdown",
      "metadata": {
        "id": "sNTnuxS3q2kD"
      },
      "source": [
        "Calculate the total counts under each qualification"
      ]
    },
    {
      "cell_type": "code",
      "metadata": {
        "id": "9uYeQk_xq2si",
        "colab": {
          "base_uri": "https://localhost:8080/"
        },
        "outputId": "1eb36c74-047d-49e6-fea6-878ca3f8309f"
      },
      "source": [
        "print(dataset['Highest_Qualified_Member'].value_counts())"
      ],
      "execution_count": 56,
      "outputs": [
        {
          "output_type": "stream",
          "text": [
            "Graduate          19\n",
            "Under-Graduate    10\n",
            "Professional      10\n",
            "Post-Graduate      6\n",
            "Illiterate         5\n",
            "Name: Highest_Qualified_Member, dtype: int64\n"
          ],
          "name": "stdout"
        }
      ]
    },
    {
      "cell_type": "markdown",
      "metadata": {
        "id": "vQT6RPqOyvi8"
      },
      "source": [
        "Compute logarithmic mean of the first two cols using your own function"
      ]
    },
    {
      "cell_type": "code",
      "metadata": {
        "id": "EUy4s5fjyzuh",
        "colab": {
          "base_uri": "https://localhost:8080/"
        },
        "outputId": "ce08fb6f-c4dd-44d5-c698-37634d816148"
      },
      "source": [
        "\r\n",
        "def logmean(arr):\r\n",
        "    x = max(arr) - min(arr)\r\n",
        "    \r\n",
        "    y = np.log(max(arr)) - np.log(min(arr))\r\n",
        "    \r\n",
        "    \r\n",
        "\r\n",
        "    return(x/y)\r\n",
        "\r\n",
        "print('Logarithmic mean of Monthly household income..',logmean(dataset['Mthly_HH_Income']))\r\n",
        "print('Logarithmic mean of Monthly household expense..',logmean(dataset['Mthly_HH_Expense']))"
      ],
      "execution_count": 57,
      "outputs": [
        {
          "output_type": "stream",
          "text": [
            "Logarithmic mean of Monthly household income.. 31711.77906605674\n",
            "Logarithmic mean of Monthly household expense.. 14912.038429430682\n"
          ],
          "name": "stdout"
        }
      ]
    },
    {
      "cell_type": "markdown",
      "metadata": {
        "id": "LG4ph_BXyzmq"
      },
      "source": [
        "Compute geometric mean of the first two cols using your own  function and verify using inbuilt Python function"
      ]
    },
    {
      "cell_type": "code",
      "metadata": {
        "id": "5uCUqqOUyvpz",
        "colab": {
          "base_uri": "https://localhost:8080/"
        },
        "outputId": "5e3ab8b9-416c-4d31-84a4-8b1e80198376"
      },
      "source": [
        "frst_two = dataset.iloc[:,0:2]\r\n",
        "\r\n",
        "print('geometric mean using builtin function')\r\n",
        "for i in frst_two_cols:\r\n",
        "    print(i , ' ',stats.mstats.gmean(dataset[i]))\r\n",
        "\r\n",
        "leng = 1/len(dataset)\r\n",
        "def geomean(arr):\r\n",
        "    prod = 1\r\n",
        "    for i in arr:\r\n",
        "        prod = prod*i\r\n",
        "    return prod**leng\r\n",
        "        \r\n",
        "\r\n",
        "print('geometric mean using made function')\r\n",
        "\r\n",
        "for i in frst_two_cols:\r\n",
        "    print(i , ' ',geomean(dataset[i]))\r\n"
      ],
      "execution_count": 58,
      "outputs": [
        {
          "output_type": "stream",
          "text": [
            "geometric mean using builtin function\n",
            "Mthly_HH_Income   33590.37754021395\n",
            "Mthly_HH_Expense   15391.89958222314\n",
            "geometric mean using made function\n",
            "Mthly_HH_Income   33590.377540213965\n",
            "Mthly_HH_Expense   15391.899582223135\n"
          ],
          "name": "stdout"
        }
      ]
    },
    {
      "cell_type": "markdown",
      "metadata": {
        "id": "Sgq9FwT-y7vC"
      },
      "source": [
        "Compute *Mean Deviation from the Mean* of the first two cols using your own  function and verify using inbuilt Python function"
      ]
    },
    {
      "cell_type": "code",
      "metadata": {
        "id": "ImCyk2CAy7zJ",
        "colab": {
          "base_uri": "https://localhost:8080/"
        },
        "outputId": "6a1b66f7-d44d-492c-f603-06d3efe654ee"
      },
      "source": [
        "def md(arr):\r\n",
        "    summ = 0 \r\n",
        "    for i in arr:\r\n",
        "        a = i-arr.mean()\r\n",
        "        summ = summ + a\r\n",
        "    return summ/len(arr)\r\n",
        "\r\n",
        "\r\n",
        "\r\n",
        "print('mean deviation from mean using made function\\n')\r\n",
        "\r\n",
        "for i in frst_two_cols:\r\n",
        "    print('mean deviation from mean in  ',i,' ',md(dataset[i]))"
      ],
      "execution_count": 69,
      "outputs": [
        {
          "output_type": "stream",
          "text": [
            "mean deviation from mean using made function\n",
            "\n",
            "mean deviation from mean in   Mthly_HH_Income   0.0\n",
            "mean deviation from mean in   Mthly_HH_Expense   0.0\n"
          ],
          "name": "stdout"
        }
      ]
    },
    {
      "cell_type": "markdown",
      "metadata": {
        "id": "IPbeTeSlzEEi"
      },
      "source": [
        "Compute *Mean Absolute Deviation from the Mean* of the first two cols using your own function and verify using inbuilt Python function"
      ]
    },
    {
      "cell_type": "code",
      "metadata": {
        "id": "hITjKV8QzENJ",
        "colab": {
          "base_uri": "https://localhost:8080/"
        },
        "outputId": "dcf7647e-1097-4b52-b62b-ded3a0180b18"
      },
      "source": [
        "from numpy import absolute as ab\r\n",
        "frst_two_cols = dataset.columns[:2].tolist()\r\n",
        "print(\"mean absolute deviation from mean using builtin function\\n\")\r\n",
        "for i in frst_two_cols:\r\n",
        "    print('mean absolute deviation from mean in  ',i,' ',dataset[i].mad())\r\n",
        "    \r\n",
        "   \r\n",
        "def mad(arr):\r\n",
        "    summ = 0 \r\n",
        "    for i in arr:\r\n",
        "        a = ab(i-arr.mean())\r\n",
        "        summ = summ + a\r\n",
        "    return summ/len(arr)\r\n",
        "\r\n",
        "print('mean absolute deviation from mean using made function\\n')\r\n",
        "\r\n",
        "for i in frst_two_cols:\r\n",
        "    print('mean absolute deviation from mean in  ',i,' ',mad(dataset[i]))\r\n",
        "    "
      ],
      "execution_count": 59,
      "outputs": [
        {
          "output_type": "stream",
          "text": [
            "mean absolute deviation from mean using builtin function\n",
            "\n",
            "mean absolute deviation from mean in   Mthly_HH_Income   20288.96\n",
            "mean absolute deviation from mean in   Mthly_HH_Expense   9247.44\n",
            "mean absolute deviation from mean using made function\n",
            "\n",
            "mean absolute deviation from mean in   Mthly_HH_Income   20288.96\n",
            "mean absolute deviation from mean in   Mthly_HH_Expense   9247.44\n"
          ],
          "name": "stdout"
        }
      ]
    },
    {
      "cell_type": "markdown",
      "metadata": {
        "id": "OVoo_Mc0zMfS"
      },
      "source": [
        "Compute *Coefficient of Variation* of the first two cols using your own function and verify using inbuilt Python function"
      ]
    },
    {
      "cell_type": "code",
      "metadata": {
        "id": "3Xw8Xa0czMly",
        "colab": {
          "base_uri": "https://localhost:8080/"
        },
        "outputId": "ed23c6d4-d5aa-4626-8e3a-791d07e1c4ce"
      },
      "source": [
        "frst_two_cols = dataset.columns[:2].tolist()\r\n",
        "print(\"coefficient of variation using builtin function\\n\")\r\n",
        "\r\n",
        "for i in frst_two_cols:\r\n",
        "  print('coefficient of variation  ',i,' ', stats.variation(dataset[i]))\r\n",
        "\r\n",
        "\r\n",
        "print('coefficient of variation using made function\\n')\r\n",
        "\r\n",
        "def cov(arr):\r\n",
        "  return(arr.std()/arr.mean())\r\n",
        "\r\n",
        "\r\n",
        "for i in frst_two_cols:\r\n",
        "  print('coefficient of variation  ',i,' ',cov(dataset[i]))"
      ],
      "execution_count": 67,
      "outputs": [
        {
          "output_type": "stream",
          "text": [
            "coefficient of variation using builtin function\n",
            "\n",
            "coefficient of variation   Mthly_HH_Income   0.6216760137420672\n",
            "coefficient of variation   Mthly_HH_Expense   0.636024233362227\n",
            "coefficient of variation using made function\n",
            "\n",
            "coefficient of variation   Mthly_HH_Income   0.6279876071686242\n",
            "coefficient of variation   Mthly_HH_Expense   0.6424814977277227\n"
          ],
          "name": "stdout"
        }
      ]
    },
    {
      "cell_type": "markdown",
      "metadata": {
        "id": "zXC0DSBH0WFV"
      },
      "source": [
        "Compute z score  for all numerical cols using your own function  and verify using inbuilt Python function"
      ]
    },
    {
      "cell_type": "code",
      "metadata": {
        "id": "cMykdLB20WOM",
        "colab": {
          "base_uri": "https://localhost:8080/"
        },
        "outputId": "d2fece8b-7a60-4816-f498-43fc8ee6ce40"
      },
      "source": [
        "numeric_columns = dataset.select_dtypes(include=np.number).columns.tolist()\r\n",
        "\r\n",
        "print('zscore using builtin fucntion')\r\n",
        "for i in numeric_columns:\r\n",
        "    print(i, stats.zscore(dataset[i]))\r\n",
        "    \r\n",
        "def zscore(arr):\r\n",
        "    zsco = []\r\n",
        "    for x in arr:\r\n",
        "        zsc = ((x - arr.mean())/np.std(arr))\r\n",
        "        zsco.append(zsc)\r\n",
        "        \r\n",
        "    return zsco\r\n",
        "    \r\n",
        "        \r\n",
        "    \r\n",
        "print('*****************')\r\n",
        "print('z-scores using made function')\r\n",
        "\r\n",
        "for i in numeric_columns:\r\n",
        "    \r\n",
        "    print(i, zscore(dataset[i]))\r\n",
        "\r\n",
        "    "
      ],
      "execution_count": 61,
      "outputs": [
        {
          "output_type": "stream",
          "text": [
            "zscore using builtin fucntion\n",
            "Mthly_HH_Income [-1.41502358 -1.37631732 -1.22149227 -1.22149227 -1.12472661 -1.06666721\n",
            " -1.02796095 -0.91184216 -0.87313589 -0.83442963 -0.83442963 -0.7570171\n",
            " -0.70282833 -0.67960458 -0.67960458 -0.64089831 -0.64089831 -0.64089831\n",
            " -0.48607326 -0.44736699 -0.42801386 -0.36995447 -0.29254194 -0.29254194\n",
            " -0.25383568 -0.25383568 -0.09901062 -0.06030436  0.01710817  0.05581443\n",
            "  0.13322696  0.13322696  0.13322696  0.13322696  0.17193322  0.21063949\n",
            "  0.32675828  0.34611141  0.5202896   0.71382091  0.71382091  0.90735223\n",
            "  1.10088355  1.48794619  1.6814775   1.87500882  2.18465893  2.26207146\n",
            "  2.26207146  2.26207146]\n",
            "Mthly_HH_Expense [-0.90385726 -0.98740849 -1.19628658 -1.40516467 -0.56965232 -0.90385726\n",
            " -0.23544738  0.09875756 -0.82030602 -0.82030602 -0.06834491  0.51651373\n",
            " -1.15451096 -0.69497917 -0.73675479 -0.54458695  0.09875756 -0.73675479\n",
            " -1.02082899 -0.48610108  0.51651373 -0.31899861  0.01520632  0.51651373\n",
            " -0.56965232  0.51651373 -0.90385726 -0.73675479 -0.31899861 -0.56965232\n",
            "  0.51651373  1.76978226 -0.73675479  0.26586003  0.51651373 -0.31899861\n",
            "  0.09875756  0.09875756  2.18753843 -0.73675479  2.6052946   0.09875756\n",
            " -0.82030602  0.09875756  0.51651373  2.43819213  0.51651373  0.93426991\n",
            "  2.6052946   1.76978226]\n",
            "No_of_Fly_Members [-0.70566377 -1.37138431 -1.37138431 -2.03710484 -1.37138431 -1.37138431\n",
            " -0.70566377  0.6257773  -1.37138431 -0.03994323 -0.03994323  1.29149784\n",
            " -0.70566377  1.29149784 -0.03994323 -0.70566377 -0.70566377  1.29149784\n",
            " -1.37138431 -0.03994323  0.6257773  -0.03994323  1.29149784 -0.70566377\n",
            " -0.70566377 -0.03994323 -0.03994323 -0.03994323 -0.03994323 -0.03994323\n",
            "  1.29149784  1.29149784 -1.37138431 -0.03994323  0.6257773   1.95721838\n",
            " -0.03994323 -0.70566377  1.29149784 -0.70566377  1.29149784 -0.03994323\n",
            " -1.37138431 -0.03994323  0.6257773   1.95721838  0.6257773   1.29149784\n",
            " -0.03994323  1.29149784]\n",
            "Emi_or_Rent_Amt [-0.17155697 -0.00971077 -0.49524938 -0.49524938 -0.00971077 -0.49524938\n",
            "  5.16936771  0.79952024 -0.49524938 -0.49524938  0.79952024  1.44690505\n",
            " -0.49524938 -0.49524938 -0.49524938 -0.49524938  0.07121233 -0.49524938\n",
            " -0.17155697 -0.49524938  0.31398163 -0.49524938 -0.49524938  0.15213543\n",
            " -0.49524938 -0.49524938 -0.49524938 -0.49524938 -0.49524938 -0.49524938\n",
            " -0.49524938  0.07121233 -0.33340318 -0.09063387  0.07121233 -0.49524938\n",
            " -0.49524938 -0.49524938  1.44690505 -0.49524938  1.12321265  0.31398163\n",
            " -0.49524938 -0.49524938 -0.49524938 -0.49524938 -0.49524938 -0.49524938\n",
            "  2.74167467  1.12321265]\n",
            "Annual_HH_Income [-1.34362417 -1.29402147 -1.19027232 -1.23949637 -1.08235806 -0.92597705\n",
            " -1.01798815 -0.86463631 -0.85554879 -0.84949045 -0.66774012 -0.66319636\n",
            " -0.62472587 -0.54657323 -0.77376115 -0.76997468 -0.72264386 -0.73211003\n",
            " -0.44812513 -0.33074471 -0.43752303 -0.14066416 -0.50340753 -0.06569214\n",
            " -0.07515831 -0.12816882  0.21109847 -0.24365601 -0.00359411  0.40761601\n",
            "  0.10659203  0.05547475 -0.16603347  0.37921752  0.33491588 -0.10469274\n",
            "  0.25237094  0.2894783   0.3489258   0.31674085  0.31674085  0.49659795\n",
            "  0.83927305  1.84647281  2.05851486  1.2482113   2.09032117  2.88396429\n",
            "  1.71016006  2.61891172]\n",
            "No_of_Earning_Members [-0.63281451 -0.63281451 -0.63281451 -0.63281451 -0.63281451 -0.63281451\n",
            " -0.63281451 -0.63281451 -0.63281451  0.7428692   0.7428692  -0.63281451\n",
            " -0.63281451  0.7428692   0.7428692  -0.63281451 -0.63281451  2.11855292\n",
            " -0.63281451 -0.63281451 -0.63281451 -0.63281451 -0.63281451 -0.63281451\n",
            " -0.63281451  0.7428692  -0.63281451 -0.63281451 -0.63281451 -0.63281451\n",
            "  2.11855292  0.7428692  -0.63281451 -0.63281451 -0.63281451  3.49423663\n",
            " -0.63281451  0.7428692   0.7428692  -0.63281451 -0.63281451  0.7428692\n",
            " -0.63281451 -0.63281451  0.7428692   2.11855292  0.7428692   2.11855292\n",
            "  0.7428692  -0.63281451]\n",
            "*****************\n",
            "z-scores using made function\n",
            "Mthly_HH_Income [-1.4150235849876078, -1.3763173213794344, -1.2214922669467403, -1.2214922669467403, -1.1247266079263063, -1.0666672125140462, -1.0279609489058725, -0.911842158081352, -0.8731358944731785, -0.834429630865005, -0.834429630865005, -0.7570171036486579, -0.7028283345972149, -0.6796045764323109, -0.6796045764323109, -0.6408983128241373, -0.6408983128241373, -0.6408983128241373, -0.48607325839144316, -0.44736699478326963, -0.42801386297918287, -0.3699544675669226, -0.2925419403505755, -0.2925419403505755, -0.253835676742402, -0.253835676742402, -0.09901062230970789, -0.06030435870153436, 0.0171081685148127, 0.05581443212298623, 0.1332269593393333, 0.1332269593393333, 0.1332269593393333, 0.1332269593393333, 0.17193322294750682, 0.21063948655568035, 0.3267582773802009, 0.3461114091842877, 0.5202895954210686, 0.7138209134619362, 0.7138209134619362, 0.9073522315028039, 1.1008835495436715, 1.4879461856254068, 1.6814775036662744, 1.8750088217071421, 2.1846589305725304, 2.262071457788877, 2.262071457788877, 2.262071457788877]\n",
            "Mthly_HH_Expense [-0.9038572579654699, -0.9874084927561401, -1.1962865797328155, -1.4051646667094908, -0.5696523188027892, -0.9038572579654699, -0.23544737964010853, 0.09875755952257213, -0.8203060231747997, -0.8203060231747997, -0.0683449100587682, 0.516513733475923, -1.1545109623374803, -0.6949791709887945, -0.7367547883841296, -0.5445869483655882, 0.09875755952257213, -0.7367547883841296, -1.020828986672408, -0.48610108401211904, 0.516513733475923, -0.3189986144307787, 0.01520632473190197, 0.516513733475923, -0.5696523188027892, 0.516513733475923, -0.9038572579654699, -0.7367547883841296, -0.3189986144307787, -0.5696523188027892, 0.516513733475923, 1.7697822553359754, -0.7367547883841296, 0.2658600291039125, 0.516513733475923, -0.3189986144307787, 0.09875755952257213, 0.09875755952257213, 2.1875384292893263, -0.7367547883841296, 2.605294603242677, 0.09875755952257213, -0.8203060231747997, 0.09875755952257213, 0.516513733475923, 2.4381921336613366, 0.516513733475923, 0.9342699074292738, 2.605294603242677, 1.7697822553359754]\n",
            "No_of_Fly_Members [-0.7056637686389973, -1.3713843050908816, -1.3713843050908816, -2.037104841542766, -1.3713843050908816, -1.3713843050908816, -0.7056637686389973, 0.6257773042647716, -1.3713843050908816, -0.03994323218711281, -0.03994323218711281, 1.291497840716656, -0.7056637686389973, 1.291497840716656, -0.03994323218711281, -0.7056637686389973, -0.7056637686389973, 1.291497840716656, -1.3713843050908816, -0.03994323218711281, 0.6257773042647716, -0.03994323218711281, 1.291497840716656, -0.7056637686389973, -0.7056637686389973, -0.03994323218711281, -0.03994323218711281, -0.03994323218711281, -0.03994323218711281, -0.03994323218711281, 1.291497840716656, 1.291497840716656, -1.3713843050908816, -0.03994323218711281, 0.6257773042647716, 1.9572183771685405, -0.03994323218711281, -0.7056637686389973, 1.291497840716656, -0.7056637686389973, 1.291497840716656, -0.03994323218711281, -1.3713843050908816, -0.03994323218711281, 0.6257773042647716, 1.9572183771685405, 0.6257773042647716, 1.291497840716656, -0.03994323218711281, 1.291497840716656]\n",
            "Emi_or_Rent_Amt [-0.171556974674772, -0.009710772151402187, -0.49524937972151156, -0.49524937972151156, -0.009710772151402187, -0.49524937972151156, 5.169367708596431, 0.7995202404654468, -0.49524937972151156, -0.49524937972151156, 0.7995202404654468, 1.4469050505589258, -0.49524937972151156, -0.49524937972151156, -0.49524937972151156, -0.49524937972151156, 0.0712123291102827, -0.49524937972151156, -0.171556974674772, -0.49524937972151156, 0.31398163289533737, -0.49524937972151156, -0.49524937972151156, 0.1521354303719676, -0.49524937972151156, -0.49524937972151156, -0.49524937972151156, -0.49524937972151156, -0.49524937972151156, -0.49524937972151156, -0.49524937972151156, 0.0712123291102827, -0.3334031771981418, -0.09063387341308708, 0.0712123291102827, -0.49524937972151156, -0.49524937972151156, -0.49524937972151156, 1.4469050505589258, -0.49524937972151156, 1.1232126455121862, 0.31398163289533737, -0.49524937972151156, -0.49524937972151156, -0.49524937972151156, -0.49524937972151156, -0.49524937972151156, -0.49524937972151156, 2.7416746707458843, 1.1232126455121862]\n",
            "Annual_HH_Income [-1.3436241662417796, -1.2940214714131952, -1.1902723234511179, -1.2394963717542933, -1.0823580637095411, -0.9259770487156072, -1.0179881543900042, -0.8646363115993424, -0.8555487949895254, -0.8494904505829808, -0.6677401183866409, -0.6631963600817324, -0.6247258731001739, -0.5465732302557478, -0.7737611455011726, -0.7699746802470822, -0.722643864570952, -0.732110027706178, -0.44812513364939704, -0.3307447107725942, -0.43752303093794387, -0.1406641550172555, -0.503407526359117, -0.06569214298626533, -0.07515830612149135, -0.12816881967875715, 0.21109846708774385, -0.24365600992851474, -0.003594112819182554, 0.4076160137750363, 0.10659202607484847, 0.055474745144627885, -0.16603347221966128, 0.3792175243693582, 0.3349158808965004, -0.10469273510339658, 0.2523709383573294, 0.2894782978474154, 0.3489258023366349, 0.3167408476768664, 0.3167408476768664, 0.49659794724616096, 0.8392730527413433, 1.846472810329393, 2.058514864558456, 1.2482113001831079, 2.0903211726928155, 2.8839642899501663, 1.7101600611821381, 2.6189117221638374]\n",
            "No_of_Earning_Members [-0.6328145078635634, -0.6328145078635634, -0.6328145078635634, -0.6328145078635634, -0.6328145078635634, -0.6328145078635634, -0.6328145078635634, -0.6328145078635634, -0.6328145078635634, 0.7428692048833136, 0.7428692048833136, -0.6328145078635634, -0.6328145078635634, 0.7428692048833136, 0.7428692048833136, -0.6328145078635634, -0.6328145078635634, 2.1185529176301907, -0.6328145078635634, -0.6328145078635634, -0.6328145078635634, -0.6328145078635634, -0.6328145078635634, -0.6328145078635634, -0.6328145078635634, 0.7428692048833136, -0.6328145078635634, -0.6328145078635634, -0.6328145078635634, -0.6328145078635634, 2.1185529176301907, 0.7428692048833136, -0.6328145078635634, -0.6328145078635634, -0.6328145078635634, 3.4942366303770678, -0.6328145078635634, 0.7428692048833136, 0.7428692048833136, -0.6328145078635634, -0.6328145078635634, 0.7428692048833136, -0.6328145078635634, -0.6328145078635634, 0.7428692048833136, 2.1185529176301907, 0.7428692048833136, 2.1185529176301907, 0.7428692048833136, -0.6328145078635634]\n"
          ],
          "name": "stdout"
        }
      ]
    },
    {
      "cell_type": "markdown",
      "metadata": {
        "id": "EkbYcbGJ0ddc"
      },
      "source": [
        "Compute mode using your own function for the first two columns and verify using inbuilt Python function"
      ]
    },
    {
      "cell_type": "code",
      "metadata": {
        "id": "JAOXOaQw0djV",
        "colab": {
          "base_uri": "https://localhost:8080/"
        },
        "outputId": "3fe8e8aa-4af0-43b0-aa1f-d432d3313a9d"
      },
      "source": [
        "frst_two_cols = dataset.columns[:2].tolist()\r\n",
        "\r\n",
        "print('Mode using inbuilt functions\\n')\r\n",
        "for i in frst_two_cols:\r\n",
        "    \r\n",
        "    print('mode of ',i,dataset[i].mode())\r\n",
        "    \r\n",
        "\r\n",
        "    \r\n",
        "def mode(arr):\r\n",
        "    x = {}\r\n",
        "    for a in arr:\r\n",
        "        if a not in x:\r\n",
        "            x[a] = 1\r\n",
        "        else:\r\n",
        "            x[a] +=1\r\n",
        "            \r\n",
        "    return[g for g,l in x.items() if l == max(x.values())]\r\n",
        "\r\n",
        "print('Mode using made fucntion\\n')\r\n",
        "print('mode of Mthly_HH_Income',mode(dataset['Mthly_HH_Income']))\r\n",
        "print('mode of Mthly_HH_Expense',mode(dataset['Mthly_HH_Expense']))"
      ],
      "execution_count": 62,
      "outputs": [
        {
          "output_type": "stream",
          "text": [
            "Mode using inbuilt functions\n",
            "\n",
            "mode of  Mthly_HH_Income 0    45000\n",
            "dtype: int64\n",
            "mode of  Mthly_HH_Expense 0    25000\n",
            "dtype: int64\n",
            "Mode using made fucntion\n",
            "\n",
            "mode of Mthly_HH_Income [45000]\n",
            "mode of Mthly_HH_Expense [25000]\n"
          ],
          "name": "stdout"
        }
      ]
    },
    {
      "cell_type": "markdown",
      "metadata": {
        "id": "HGPGOGDo04O1"
      },
      "source": [
        "Comment if the data for the first two cols is bi-modal, multi-modal or single modal"
      ]
    },
    {
      "cell_type": "code",
      "metadata": {
        "id": "blysYEAQ04Vs",
        "colab": {
          "base_uri": "https://localhost:8080/"
        },
        "outputId": "1b523e87-bdc8-48b4-a0bf-a501f6985c64"
      },
      "source": [
        "print('unimodal')"
      ],
      "execution_count": 65,
      "outputs": [
        {
          "output_type": "stream",
          "text": [
            "unimodal\n"
          ],
          "name": "stdout"
        }
      ]
    },
    {
      "cell_type": "code",
      "metadata": {
        "id": "5ZhKwCBSjOZJ"
      },
      "source": [
        ""
      ],
      "execution_count": null,
      "outputs": []
    }
  ]
}